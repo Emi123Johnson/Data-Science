{
 "cells": [
  {
   "cell_type": "code",
   "execution_count": 2,
   "id": "31b369fa",
   "metadata": {},
   "outputs": [
    {
     "name": "stdout",
     "output_type": "stream",
     "text": [
      "hello world\n"
     ]
    }
   ],
   "source": [
    "print(\"hello world\")"
   ]
  },
  {
   "cell_type": "code",
   "execution_count": 3,
   "id": "5985c0a4",
   "metadata": {},
   "outputs": [
    {
     "name": "stdout",
     "output_type": "stream",
     "text": [
      "5\n",
      "<class 'int'>\n"
     ]
    }
   ],
   "source": [
    "a=5\n",
    "print(a)\n",
    "print(type(a))"
   ]
  },
  {
   "cell_type": "code",
   "execution_count": 4,
   "id": "722e5218",
   "metadata": {},
   "outputs": [
    {
     "name": "stdout",
     "output_type": "stream",
     "text": [
      "1.5\n",
      "<class 'float'>\n"
     ]
    }
   ],
   "source": [
    "f=1.5\n",
    "print(f)\n",
    "print(type(f))"
   ]
  },
  {
   "cell_type": "code",
   "execution_count": 5,
   "id": "86891ecf",
   "metadata": {},
   "outputs": [
    {
     "name": "stdout",
     "output_type": "stream",
     "text": [
      "hello\n",
      "<class 'str'>\n"
     ]
    }
   ],
   "source": [
    "s=\"hello\"\n",
    "print(s)\n",
    "print(type(s))"
   ]
  },
  {
   "cell_type": "code",
   "execution_count": 6,
   "id": "2b72c880",
   "metadata": {},
   "outputs": [
    {
     "name": "stdout",
     "output_type": "stream",
     "text": [
      "True\n",
      "<class 'bool'>\n"
     ]
    }
   ],
   "source": [
    "b=True\n",
    "print(b)\n",
    "print(type(b))"
   ]
  },
  {
   "cell_type": "code",
   "execution_count": 7,
   "id": "91b1e219",
   "metadata": {},
   "outputs": [
    {
     "name": "stdout",
     "output_type": "stream",
     "text": [
      "(5+3j)\n",
      "<class 'complex'>\n"
     ]
    }
   ],
   "source": [
    "t=5+3j\n",
    "print(t)\n",
    "print(type(t))"
   ]
  },
  {
   "cell_type": "code",
   "execution_count": 8,
   "id": "915d7f21",
   "metadata": {},
   "outputs": [
    {
     "name": "stdout",
     "output_type": "stream",
     "text": [
      "10\n"
     ]
    }
   ],
   "source": [
    "a=7\n",
    "b=3\n",
    "sum=a+b\n",
    "print(sum)"
   ]
  },
  {
   "cell_type": "code",
   "execution_count": 9,
   "id": "757ccfd9",
   "metadata": {},
   "outputs": [
    {
     "name": "stdout",
     "output_type": "stream",
     "text": [
      "4\n",
      "21\n",
      "2.3333333333333335\n",
      "2\n",
      "343\n"
     ]
    }
   ],
   "source": [
    "diff=a-b\n",
    "print(diff)\n",
    "\n",
    "mul=a*b\n",
    "print(mul)\n",
    "\n",
    "quo=a/b\n",
    "print(quo)\n",
    "\n",
    "iquo=a//b\n",
    "print(iquo)\n",
    "\n",
    "pow=a**b\n",
    "print(pow)"
   ]
  },
  {
   "cell_type": "code",
   "execution_count": 10,
   "id": "189a6881",
   "metadata": {},
   "outputs": [
    {
     "name": "stdout",
     "output_type": "stream",
     "text": [
      "True False\n"
     ]
    }
   ],
   "source": [
    "t=True\n",
    "f=False\n",
    "print(t,f)"
   ]
  },
  {
   "cell_type": "code",
   "execution_count": 11,
   "id": "91dee957",
   "metadata": {},
   "outputs": [
    {
     "name": "stdout",
     "output_type": "stream",
     "text": [
      "True\n"
     ]
    }
   ],
   "source": [
    "p=5>3\n",
    "print(p)"
   ]
  },
  {
   "cell_type": "code",
   "execution_count": 12,
   "id": "418aefd0",
   "metadata": {},
   "outputs": [
    {
     "name": "stdout",
     "output_type": "stream",
     "text": [
      "False\n"
     ]
    }
   ],
   "source": [
    "q =-1<-12.5\n",
    "print(q)"
   ]
  },
  {
   "cell_type": "code",
   "execution_count": 13,
   "id": "f3cc1ffa",
   "metadata": {},
   "outputs": [
    {
     "name": "stdout",
     "output_type": "stream",
     "text": [
      "False\n",
      "True\n"
     ]
    }
   ],
   "source": [
    "print(p and q)\n",
    "print(p or q)"
   ]
  },
  {
   "cell_type": "code",
   "execution_count": 14,
   "id": "20f03616",
   "metadata": {},
   "outputs": [
    {
     "name": "stdout",
     "output_type": "stream",
     "text": [
      "True\n"
     ]
    }
   ],
   "source": [
    "print(not q)"
   ]
  },
  {
   "cell_type": "code",
   "execution_count": 15,
   "id": "2b8e0978",
   "metadata": {},
   "outputs": [
    {
     "name": "stdout",
     "output_type": "stream",
     "text": [
      "hello\n",
      "hello\n"
     ]
    }
   ],
   "source": [
    "s=\"hello\"\n",
    "u=\"hello\"\n",
    "print(s)\n",
    "print(u)"
   ]
  },
  {
   "cell_type": "code",
   "execution_count": 17,
   "id": "21c366b9",
   "metadata": {},
   "outputs": [],
   "source": [
    "s1=\"python\"\n",
    "s=\"world\""
   ]
  },
  {
   "cell_type": "code",
   "execution_count": 18,
   "id": "a9b37a17",
   "metadata": {},
   "outputs": [
    {
     "name": "stdout",
     "output_type": "stream",
     "text": [
      "python world\n"
     ]
    }
   ],
   "source": [
    "s3=s1+' '+ s\n",
    "print(s3)"
   ]
  },
  {
   "cell_type": "code",
   "execution_count": 19,
   "id": "b583c55e",
   "metadata": {},
   "outputs": [
    {
     "name": "stdout",
     "output_type": "stream",
     "text": [
      "python world 1011\n"
     ]
    }
   ],
   "source": [
    "s3='%s %s %d'%(s1,s,1011)\n",
    "print(s3)"
   ]
  },
  {
   "cell_type": "code",
   "execution_count": 20,
   "id": "f86cc69e",
   "metadata": {},
   "outputs": [
    {
     "name": "stdout",
     "output_type": "stream",
     "text": [
      "17\n"
     ]
    }
   ],
   "source": [
    "print(len(s3))"
   ]
  },
  {
   "cell_type": "code",
   "execution_count": 21,
   "id": "d76e58f9",
   "metadata": {},
   "outputs": [
    {
     "name": "stdout",
     "output_type": "stream",
     "text": [
      "PYTHON WORLD 1011\n"
     ]
    }
   ],
   "source": [
    "print(s3.upper())"
   ]
  },
  {
   "cell_type": "code",
   "execution_count": 22,
   "id": "6c292832",
   "metadata": {},
   "outputs": [
    {
     "name": "stdout",
     "output_type": "stream",
     "text": [
      "Python world 1011\n"
     ]
    }
   ],
   "source": [
    "print(s3.capitalize())"
   ]
  },
  {
   "cell_type": "code",
   "execution_count": 23,
   "id": "2bf6ce1b",
   "metadata": {},
   "outputs": [
    {
     "name": "stdout",
     "output_type": "stream",
     "text": [
      "python world 1011\n"
     ]
    }
   ],
   "source": [
    "print(s3.lower())"
   ]
  },
  {
   "cell_type": "code",
   "execution_count": 24,
   "id": "34bdc5f8",
   "metadata": {},
   "outputs": [
    {
     "name": "stdout",
     "output_type": "stream",
     "text": [
      "['hello', 'world', 'how', 'are', 'you']\n"
     ]
    }
   ],
   "source": [
    "print('hello world how are you'.split(' '))"
   ]
  },
  {
   "cell_type": "code",
   "execution_count": 25,
   "id": "54a752e0",
   "metadata": {},
   "outputs": [
    {
     "name": "stdout",
     "output_type": "stream",
     "text": [
      "beek\n"
     ]
    }
   ],
   "source": [
    "print('book'.replace('o','e'))"
   ]
  },
  {
   "cell_type": "code",
   "execution_count": 26,
   "id": "18c6018a",
   "metadata": {},
   "outputs": [
    {
     "name": "stdout",
     "output_type": "stream",
     "text": [
      "2\n",
      "-1\n"
     ]
    }
   ],
   "source": [
    "word='jewellery'\n",
    "print(word.find('well'))\n",
    "print(word.find('is'))"
   ]
  },
  {
   "cell_type": "code",
   "execution_count": 27,
   "id": "ee514aae",
   "metadata": {},
   "outputs": [
    {
     "name": "stdout",
     "output_type": "stream",
     "text": [
      "Not a 3 digit\n"
     ]
    }
   ],
   "source": [
    "number=10\n",
    "if number>99 and number<1000:\n",
    "    print(\"it is a 3 digit\")\n",
    "else:\n",
    "    print(\"Not a 3 digit\")"
   ]
  },
  {
   "cell_type": "code",
   "execution_count": 28,
   "id": "dde731e2",
   "metadata": {},
   "outputs": [
    {
     "name": "stdout",
     "output_type": "stream",
     "text": [
      "Are you familiar with python: yes\n",
      "You can skip this course :-|\n"
     ]
    }
   ],
   "source": [
    "response = input('Are you familiar with python: ')\n",
    "if response.upper()==\"YES\":\n",
    "    print(\"You can skip this course :-|\")\n",
    "elif response.upper()==\"NO\":\n",
    "    print(\"You are at the right place :-)\") \n",
    "else:\n",
    "    print('Sorry wrong input :-(')"
   ]
  },
  {
   "cell_type": "code",
   "execution_count": 1,
   "id": "64582bb5",
   "metadata": {},
   "outputs": [
    {
     "name": "stdout",
     "output_type": "stream",
     "text": [
      "0 1 2 3 4 5 6 7 8 9 "
     ]
    }
   ],
   "source": [
    "for x in range(10):\n",
    "  print(x,end=' ')"
   ]
  },
  {
   "cell_type": "code",
   "execution_count": 2,
   "id": "f8910ac6",
   "metadata": {},
   "outputs": [
    {
     "name": "stdout",
     "output_type": "stream",
     "text": [
      "Enter a limit : 10\n",
      "Odd sum = 25\n"
     ]
    }
   ],
   "source": [
    "limit = int(input('Enter a limit : ')) \n",
    "sum = 0\n",
    "\n",
    "for i in range(1,limit + 1): \n",
    "    if i%2 !=0:\n",
    "\n",
    "      sum += i\n",
    "\n",
    "print(\"Odd sum = \"+str(sum))"
   ]
  },
  {
   "cell_type": "code",
   "execution_count": 3,
   "id": "e8212462",
   "metadata": {},
   "outputs": [
    {
     "name": "stdout",
     "output_type": "stream",
     "text": [
      "[0, 1, 2, 3, 4, 5, 6, 7, 8, 9]\n",
      "[1, 2, 3, 4, 5, 6, 7, 8, 9]\n",
      "[1, 3, 5, 7, 9]\n"
     ]
    }
   ],
   "source": [
    "print(list(range(10)))\n",
    "\n",
    "\n",
    "print(list(range(1,10)))\n",
    "\n",
    "\n",
    "\n",
    "print(list(range(1,10,2)))"
   ]
  },
  {
   "cell_type": "code",
   "execution_count": 4,
   "id": "b952e59c",
   "metadata": {},
   "outputs": [
    {
     "name": "stdout",
     "output_type": "stream",
     "text": [
      "Enter number : 10\n",
      "1\n"
     ]
    }
   ],
   "source": [
    "number = int(input('Enter number : ')) \n",
    "s = 0\n",
    "\n",
    "while number > 0 :\n",
    "\n",
    " s += number%10\n",
    " number = number//10\n",
    "\n",
    "print(s)"
   ]
  },
  {
   "cell_type": "code",
   "execution_count": 10,
   "id": "50ae2858",
   "metadata": {},
   "outputs": [
    {
     "name": "stdout",
     "output_type": "stream",
     "text": [
      "Enter number : 59\n",
      "2 3 5 7 11 13 17 19 23 29 31 37 41 43 47 53 59 "
     ]
    }
   ],
   "source": [
    "limit = int(input('Enter number : ')) \n",
    "for num in range(2,limit+1):\n",
    "\n",
    "    is_divisible = False\n",
    "\n",
    "    k=2\n",
    "\n",
    "    while k <= num//2 :\n",
    "\n",
    "        if num % k == 0:\n",
    "            is_divisible=True\n",
    "            break;\n",
    "\n",
    "        k += 1\n",
    "\n",
    "    if not is_divisible:\n",
    "         print(num,end=' ')"
   ]
  },
  {
   "cell_type": "code",
   "execution_count": 11,
   "id": "a8e2d3a6",
   "metadata": {},
   "outputs": [
    {
     "name": "stdout",
     "output_type": "stream",
     "text": [
      "['a', 'b', 1, 2, 1.2, True]\n"
     ]
    }
   ],
   "source": [
    "mylist = ['a','b',1,2,1.2,True]\n",
    "print(mylist)"
   ]
  },
  {
   "cell_type": "code",
   "execution_count": 12,
   "id": "b18f7042",
   "metadata": {},
   "outputs": [
    {
     "name": "stdout",
     "output_type": "stream",
     "text": [
      "['a', 'b', 1, 2, 1.2, True, 'new']\n"
     ]
    }
   ],
   "source": [
    "mylist.append('new')\n",
    "print(mylist)"
   ]
  },
  {
   "cell_type": "code",
   "execution_count": 13,
   "id": "91ed11a8",
   "metadata": {},
   "outputs": [
    {
     "name": "stdout",
     "output_type": "stream",
     "text": [
      "new\n"
     ]
    }
   ],
   "source": [
    "print(mylist.pop())"
   ]
  },
  {
   "cell_type": "code",
   "execution_count": 15,
   "id": "015d5241",
   "metadata": {},
   "outputs": [
    {
     "name": "stdout",
     "output_type": "stream",
     "text": [
      "['a', 'b', 'new', 1, 2, 1.2, True]\n"
     ]
    }
   ],
   "source": [
    "mylist.insert(2,'new')\n",
    "print(mylist)"
   ]
  },
  {
   "cell_type": "code",
   "execution_count": 16,
   "id": "df281dcb",
   "metadata": {},
   "outputs": [
    {
     "name": "stdout",
     "output_type": "stream",
     "text": [
      "['a', 'b', 1, 2, 1.2, True]\n"
     ]
    }
   ],
   "source": [
    "mylist.remove('new')\n",
    "print(mylist)"
   ]
  },
  {
   "cell_type": "code",
   "execution_count": 17,
   "id": "f0965048",
   "metadata": {},
   "outputs": [
    {
     "name": "stdout",
     "output_type": "stream",
     "text": [
      "['a', 'b', 1, 2, 1.2, True, [1, 2, 3]]\n"
     ]
    }
   ],
   "source": [
    "b=[1,2,3]\n",
    "mylist.append(b)\n",
    "print(mylist)"
   ]
  },
  {
   "cell_type": "code",
   "execution_count": 18,
   "id": "1b40fa15",
   "metadata": {},
   "outputs": [
    {
     "name": "stdout",
     "output_type": "stream",
     "text": [
      "['a', 'b', 1, 2, 1.2, True]\n"
     ]
    }
   ],
   "source": [
    "mylist.remove(b)\n",
    "print(mylist)"
   ]
  },
  {
   "cell_type": "code",
   "execution_count": 19,
   "id": "017edf5f",
   "metadata": {},
   "outputs": [
    {
     "name": "stdout",
     "output_type": "stream",
     "text": [
      "['a', 'b', 1, 2, 1.2, True, 1, 2, 3]\n"
     ]
    }
   ],
   "source": [
    "mylist.extend(b)\n",
    "print(mylist)"
   ]
  },
  {
   "cell_type": "code",
   "execution_count": 20,
   "id": "da253c8e",
   "metadata": {},
   "outputs": [
    {
     "name": "stdout",
     "output_type": "stream",
     "text": [
      "[1, 2, 3, 4, 5]\n",
      "['h', 'e', 'l', 'l', 'o']\n"
     ]
    }
   ],
   "source": [
    "a=[2,3,1,4,5]\n",
    "a.sort()\n",
    "print(a)\n",
    "print(list('hello'))"
   ]
  },
  {
   "cell_type": "code",
   "execution_count": 22,
   "id": "7692467c",
   "metadata": {},
   "outputs": [
    {
     "name": "stdout",
     "output_type": "stream",
     "text": [
      "2 9\n",
      "[7, 8, 9]\n",
      "[1, 2, 3, 5, 6, 7, 8]\n"
     ]
    }
   ],
   "source": [
    "numbers=[1,2,3,5,6,7,8,9]\n",
    "print(numbers[1],numbers[-1])\n",
    "sliced=numbers[5:11]\n",
    "print(sliced)\n",
    "sliced=numbers[:7]\n",
    "print(sliced)"
   ]
  },
  {
   "cell_type": "code",
   "execution_count": 23,
   "id": "977a08c1",
   "metadata": {},
   "outputs": [
    {
     "name": "stdout",
     "output_type": "stream",
     "text": [
      "[8, 9]\n"
     ]
    }
   ],
   "source": [
    "sliced=numbers[-2:]\n",
    "print(sliced)"
   ]
  },
  {
   "cell_type": "code",
   "execution_count": 24,
   "id": "e889a265",
   "metadata": {},
   "outputs": [
    {
     "name": "stdout",
     "output_type": "stream",
     "text": [
      "[1, 2, 3, 4, 5, 6, 7]\n"
     ]
    }
   ],
   "source": [
    "numbers=list(range(1,8))\n",
    "print(numbers)"
   ]
  },
  {
   "cell_type": "code",
   "execution_count": 25,
   "id": "360755d1",
   "metadata": {},
   "outputs": [
    {
     "name": "stdout",
     "output_type": "stream",
     "text": [
      "[1, 4, 9, 16, 25, 36, 49]\n"
     ]
    }
   ],
   "source": [
    "square=[]\n",
    "for i in numbers:\n",
    "    square.append(pow(i,2))\n",
    "print(square)"
   ]
  },
  {
   "cell_type": "code",
   "execution_count": 26,
   "id": "15dcf3d8",
   "metadata": {},
   "outputs": [
    {
     "name": "stdout",
     "output_type": "stream",
     "text": [
      "[1, 4, 9, 16, 25, 36, 49]\n"
     ]
    }
   ],
   "source": [
    "square=[x**2 for x in numbers]\n",
    "print(square)"
   ]
  },
  {
   "cell_type": "code",
   "execution_count": 27,
   "id": "848e1e6a",
   "metadata": {},
   "outputs": [
    {
     "name": "stdout",
     "output_type": "stream",
     "text": [
      "[1, 9, 25, 49]\n"
     ]
    }
   ],
   "source": [
    "odd_square=[x**2 for x in numbers if x%2 !=0]\n",
    "print(odd_square)"
   ]
  },
  {
   "cell_type": "code",
   "execution_count": 28,
   "id": "bb89608e",
   "metadata": {},
   "outputs": [
    {
     "name": "stdout",
     "output_type": "stream",
     "text": [
      "[(4, 4), (4, 6), (4, 8), (4, 9), (6, 4), (6, 6), (6, 8), (6, 9), (8, 4), (8, 6), (8, 8), (8, 9), (9, 4), (9, 6), (9, 8), (9, 9)]\n"
     ]
    }
   ],
   "source": [
    "A=[4,6,8,9]\n",
    "AxA=[(a,b)for a in A for b in A if A!=b]\n",
    "print(AxA)"
   ]
  },
  {
   "cell_type": "code",
   "execution_count": 32,
   "id": "2254deff",
   "metadata": {},
   "outputs": [
    {
     "name": "stdout",
     "output_type": "stream",
     "text": [
      "Manu\n"
     ]
    }
   ],
   "source": [
    "person={'name':'Manu','age':28}\n",
    "print(person['name'])"
   ]
  },
  {
   "cell_type": "code",
   "execution_count": 33,
   "id": "6238a0ec",
   "metadata": {},
   "outputs": [
    {
     "name": "stdout",
     "output_type": "stream",
     "text": [
      "True\n"
     ]
    }
   ],
   "source": [
    "print('name' in person)"
   ]
  },
  {
   "cell_type": "code",
   "execution_count": 35,
   "id": "299e4448",
   "metadata": {},
   "outputs": [
    {
     "name": "stdout",
     "output_type": "stream",
     "text": [
      "False\n"
     ]
    }
   ],
   "source": [
    "print('sex' in person)"
   ]
  },
  {
   "cell_type": "code",
   "execution_count": 36,
   "id": "17a6f1d4",
   "metadata": {},
   "outputs": [
    {
     "name": "stdout",
     "output_type": "stream",
     "text": [
      "{'name': 'Manu', 'age': 28, 'sex': 'male'}\n"
     ]
    }
   ],
   "source": [
    "person['sex']='male'\n",
    "print(person)"
   ]
  },
  {
   "cell_type": "code",
   "execution_count": 37,
   "id": "6f28d10f",
   "metadata": {},
   "outputs": [
    {
     "name": "stdout",
     "output_type": "stream",
     "text": [
      "name Manu\n",
      "age 28\n",
      "sex male\n"
     ]
    }
   ],
   "source": [
    "for item in person:\n",
    "        print(item,person[item])"
   ]
  },
  {
   "cell_type": "code",
   "execution_count": 41,
   "id": "5a11b6ce",
   "metadata": {},
   "outputs": [
    {
     "name": "stdout",
     "output_type": "stream",
     "text": [
      "Name \t:\t Manu\n",
      "Age \t:\t 28\n",
      "Sex \t:\t male\n"
     ]
    }
   ],
   "source": [
    "for(key,value) in person.items():\n",
    "        print(key.capitalize(),'\\t:\\t',value)"
   ]
  },
  {
   "cell_type": "code",
   "execution_count": 42,
   "id": "d0270c0e",
   "metadata": {},
   "outputs": [
    {
     "name": "stdout",
     "output_type": "stream",
     "text": [
      "(1, 2, 3) (4, 5, 6)\n"
     ]
    }
   ],
   "source": [
    "t1=(1,2,3)\n",
    "t2=4,5,6\n",
    "print(t1,t2)"
   ]
  },
  {
   "cell_type": "code",
   "execution_count": 43,
   "id": "674e769d",
   "metadata": {},
   "outputs": [
    {
     "name": "stdout",
     "output_type": "stream",
     "text": [
      "(1, 2, 3, 4, 5, 6)\n"
     ]
    }
   ],
   "source": [
    "t3=t1+t2\n",
    "print(t3)"
   ]
  },
  {
   "cell_type": "code",
   "execution_count": 44,
   "id": "d5832ba9",
   "metadata": {},
   "outputs": [
    {
     "name": "stdout",
     "output_type": "stream",
     "text": [
      "('a', 'b', 'c', 'd')\n"
     ]
    }
   ],
   "source": [
    "lt=tuple(['a','b','c','d'])\n",
    "print(lt)"
   ]
  },
  {
   "cell_type": "code",
   "execution_count": 45,
   "id": "3566521b",
   "metadata": {},
   "outputs": [
    {
     "ename": "TypeError",
     "evalue": "'tuple' object does not support item assignment",
     "output_type": "error",
     "traceback": [
      "\u001b[0;31m---------------------------------------------------------------------------\u001b[0m",
      "\u001b[0;31mTypeError\u001b[0m                                 Traceback (most recent call last)",
      "\u001b[0;32m/tmp/ipykernel_3892/2432084581.py\u001b[0m in \u001b[0;36m<module>\u001b[0;34m\u001b[0m\n\u001b[0;32m----> 1\u001b[0;31m \u001b[0mlt\u001b[0m\u001b[0;34m[\u001b[0m\u001b[0;36m2\u001b[0m\u001b[0;34m]\u001b[0m\u001b[0;34m=\u001b[0m\u001b[0;34m'x'\u001b[0m\u001b[0;34m\u001b[0m\u001b[0;34m\u001b[0m\u001b[0m\n\u001b[0m",
      "\u001b[0;31mTypeError\u001b[0m: 'tuple' object does not support item assignment"
     ]
    }
   ],
   "source": [
    "lt[2]='x'"
   ]
  },
  {
   "cell_type": "code",
   "execution_count": 46,
   "id": "69688300",
   "metadata": {},
   "outputs": [
    {
     "name": "stdout",
     "output_type": "stream",
     "text": [
      "<class 'int'>\n",
      "<class 'tuple'>\n"
     ]
    }
   ],
   "source": [
    "s=(3)\n",
    "print(type(s))\n",
    "s=(3,)\n",
    "print(type(s))"
   ]
  },
  {
   "cell_type": "code",
   "execution_count": 47,
   "id": "1d753428",
   "metadata": {},
   "outputs": [
    {
     "name": "stdout",
     "output_type": "stream",
     "text": [
      "{1, 2, 3} <class 'set'>\n"
     ]
    }
   ],
   "source": [
    "s={1,2,3}\n",
    "print(s,type(s))"
   ]
  },
  {
   "cell_type": "code",
   "execution_count": 48,
   "id": "66e66053",
   "metadata": {},
   "outputs": [
    {
     "name": "stdout",
     "output_type": "stream",
     "text": [
      "{'apple', 'cherry'}\n"
     ]
    }
   ],
   "source": [
    "fset={\"apple\",\"banana\",\"cherry\"}\n",
    "fset.remove(\"banana\")\n",
    "print(fset)"
   ]
  },
  {
   "cell_type": "code",
   "execution_count": 49,
   "id": "9be50d2e",
   "metadata": {},
   "outputs": [
    {
     "name": "stdout",
     "output_type": "stream",
     "text": [
      "{'apple', 'cherry'}\n"
     ]
    }
   ],
   "source": [
    "fset={\"apple\",\"banana\",\"cherry\"}\n",
    "fset.discard(\"banana\")\n",
    "print(fset)"
   ]
  },
  {
   "cell_type": "code",
   "execution_count": 50,
   "id": "6cef207b",
   "metadata": {},
   "outputs": [
    {
     "name": "stdout",
     "output_type": "stream",
     "text": [
      "set()\n"
     ]
    }
   ],
   "source": [
    "fset = {\"apple\", \"banana\", \"cherry\"}\n",
    "fset.clear()\n",
    "\n",
    "print(fset)"
   ]
  },
  {
   "cell_type": "code",
   "execution_count": 53,
   "id": "64bd67d0",
   "metadata": {},
   "outputs": [
    {
     "name": "stdout",
     "output_type": "stream",
     "text": [
      "{1, 2, 'c', 3, 'a', 'b'}\n"
     ]
    }
   ],
   "source": [
    "set1 = {\"a\", \"b\" , \"c\"} \n",
    "set2 ={1, 2, 3}\n",
    "\n",
    "set3 = set1.union(set2)\n",
    "\n",
    "print(set3)"
   ]
  },
  {
   "cell_type": "code",
   "execution_count": 54,
   "id": "65fc1ade",
   "metadata": {},
   "outputs": [
    {
     "name": "stdout",
     "output_type": "stream",
     "text": [
      "{'apple'}\n"
     ]
    }
   ],
   "source": [
    "x = {\"apple\", \"banana\", \"cherry\"}\n",
    "\n",
    "y = {\"google\", \"microsoft\", \"apple\"}\n",
    "\n",
    "z = x.intersection(y)\n",
    "print(z)"
   ]
  },
  {
   "cell_type": "code",
   "execution_count": 55,
   "id": "2b97e6d0",
   "metadata": {},
   "outputs": [
    {
     "name": "stdout",
     "output_type": "stream",
     "text": [
      "[1, 2, 3, 4, 5, 6, 7]\n"
     ]
    }
   ],
   "source": [
    "lst = [1,2,3,4,5,5,5,7,6]\n",
    "\n",
    "myset = list(set(lst))\n",
    "print(myset)"
   ]
  },
  {
   "cell_type": "code",
   "execution_count": 59,
   "id": "a7a614d1",
   "metadata": {},
   "outputs": [
    {
     "name": "stdout",
     "output_type": "stream",
     "text": [
      "10\n",
      "Enter the number 10\n",
      "False\n"
     ]
    }
   ],
   "source": [
    "def twice(number):\n",
    "    return 2*number\n",
    "\n",
    "t = twice(5)\n",
    "print(t)\n",
    "\n",
    "def isPrime(number):\n",
    "\n",
    "    for factor in range(2, (number//2)+1): \n",
    "        if number%factor == 0:\n",
    "\n",
    "          return False\n",
    "\n",
    "    return True\n",
    "\n",
    "number = int(input('Enter the number '))\n",
    "print(isPrime(number))"
   ]
  },
  {
   "cell_type": "code",
   "execution_count": 60,
   "id": "34e97d85",
   "metadata": {},
   "outputs": [
    {
     "name": "stdout",
     "output_type": "stream",
     "text": [
      "5 7 11 13 17 19 23 29 31 37 41 43 47 "
     ]
    }
   ],
   "source": [
    "def printPrimes(llimit, ulimit):\n",
    "\n",
    "    for num in range(llimit, ulimit + 1):\n",
    "\n",
    "        if isPrime(num) == True:\n",
    "\n",
    "            print(num, end = ' ')\n",
    "\n",
    "printPrimes(5,50)"
   ]
  },
  {
   "cell_type": "code",
   "execution_count": 62,
   "id": "3d280921",
   "metadata": {},
   "outputs": [
    {
     "name": "stdout",
     "output_type": "stream",
     "text": [
      "7 5\n"
     ]
    }
   ],
   "source": [
    "def swap(x,y):\n",
    " t = x\n",
    " x = y\n",
    " y = t\n",
    " return x,y\n",
    "a=5\n",
    "b=7\n",
    "\n",
    "a,b = swap(a,b)\n",
    "print(a,b)"
   ]
  },
  {
   "cell_type": "code",
   "execution_count": null,
   "id": "259d8122",
   "metadata": {},
   "outputs": [],
   "source": []
  }
 ],
 "metadata": {
  "kernelspec": {
   "display_name": "Python 3 (ipykernel)",
   "language": "python",
   "name": "python3"
  },
  "language_info": {
   "codemirror_mode": {
    "name": "ipython",
    "version": 3
   },
   "file_extension": ".py",
   "mimetype": "text/x-python",
   "name": "python",
   "nbconvert_exporter": "python",
   "pygments_lexer": "ipython3",
   "version": "3.9.7"
  }
 },
 "nbformat": 4,
 "nbformat_minor": 5
}
